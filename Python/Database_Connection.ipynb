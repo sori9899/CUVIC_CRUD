{
 "cells": [
  {
   "cell_type": "code",
   "execution_count": 1,
   "id": "cacd6e01",
   "metadata": {},
   "outputs": [
    {
     "name": "stdout",
     "output_type": "stream",
     "text": [
      "연결 성공!\n"
     ]
    }
   ],
   "source": [
    "import pymysql\n",
    "\n",
    "conn = pymysql.connect(\n",
    "    host='localhost',\n",
    "    user='root',\n",
    "    password='sorikim1590!@',\n",
    "    db='crud',         # ✅ 실제 존재하는 데이터베이스 이름으로 바꾸세요\n",
    "    port=3306          # ✅ 포트는 따로 지정\n",
    ")\n",
    "\n",
    "print(\"연결 성공!\")\n",
    "conn.close()"
   ]
  }
 ],
 "metadata": {
  "kernelspec": {
   "display_name": "CRUD",
   "language": "python",
   "name": "python3"
  },
  "language_info": {
   "codemirror_mode": {
    "name": "ipython",
    "version": 3
   },
   "file_extension": ".py",
   "mimetype": "text/x-python",
   "name": "python",
   "nbconvert_exporter": "python",
   "pygments_lexer": "ipython3",
   "version": "3.8.0"
  }
 },
 "nbformat": 4,
 "nbformat_minor": 5
}
